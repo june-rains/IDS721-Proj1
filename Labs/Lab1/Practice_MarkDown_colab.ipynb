{
  "nbformat": 4,
  "nbformat_minor": 0,
  "metadata": {
    "colab": {
      "provenance": [],
      "authorship_tag": "ABX9TyMEXIuGjbcTNVttZmBDSKBF",
      "include_colab_link": true
    },
    "kernelspec": {
      "name": "python3",
      "display_name": "Python 3"
    },
    "language_info": {
      "name": "python"
    }
  },
  "cells": [
    {
      "cell_type": "markdown",
      "metadata": {
        "id": "view-in-github",
        "colab_type": "text"
      },
      "source": [
        "<a href=\"https://colab.research.google.com/github/june-rains/IDS721-Proj1/blob/main/Labs/Lab1/Practice_MarkDown_colab.ipynb\" target=\"_parent\"><img src=\"https://colab.research.google.com/assets/colab-badge.svg\" alt=\"Open In Colab\"/></a>"
      ]
    },
    {
      "cell_type": "markdown",
      "source": [
        "# Practice Markdown in Colab"
      ],
      "metadata": {
        "id": "7cnMV3CgwOki"
      }
    },
    {
      "cell_type": "markdown",
      "source": [
        "* Create a code cell and print a Python Hello World statement:"
      ],
      "metadata": {
        "id": "uKUdwMSvwWAC"
      }
    },
    {
      "cell_type": "code",
      "source": [
        "print(\"hello world\")"
      ],
      "metadata": {
        "colab": {
          "base_uri": "https://localhost:8080/"
        },
        "id": "tIDqTBwVwVJ2",
        "outputId": "b6892d27-42ee-43a3-de0c-3764690bed1a"
      },
      "execution_count": 2,
      "outputs": [
        {
          "output_type": "stream",
          "name": "stdout",
          "text": [
            "hello world\n"
          ]
        }
      ]
    },
    {
      "cell_type": "markdown",
      "source": [
        "* Download this notebook as a .ipynb file and check into a GitHub Project. You can see an [example](https://github.com/noahgift/duke-coursera-ccf-lab1/blob/main/Practice-Markdown.ipynb) here."
      ],
      "metadata": {
        "id": "GUq761UhwjtI"
      }
    },
    {
      "cell_type": "markdown",
      "source": [
        "* Open your notebook in Google Colab and save it into the same GitHub Project. You can see an [example](https://github.com/noahgift/duke-coursera-ccf-lab1/blob/main/Practice_Markdown_with_colab.ipynb) here."
      ],
      "metadata": {
        "id": "umn_yUFews9k"
      }
    }
  ]
}